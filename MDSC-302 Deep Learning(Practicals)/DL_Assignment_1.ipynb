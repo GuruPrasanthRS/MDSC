{
  "nbformat": 4,
  "nbformat_minor": 0,
  "metadata": {
    "colab": {
      "provenance": []
    },
    "kernelspec": {
      "name": "python3",
      "display_name": "Python 3"
    },
    "language_info": {
      "name": "python"
    }
  },
  "cells": [
    {
      "cell_type": "markdown",
      "source": [
        "# MDSC-302(P) Deep Learning Practicals"
      ],
      "metadata": {
        "id": "KiS9wkCysjeX"
      }
    },
    {
      "cell_type": "markdown",
      "source": [
        "# Assignment-1\n",
        "# Name    : Guru Prasanth R S\n",
        "# Regd No : 240402008003"
      ],
      "metadata": {
        "id": "aQFyJLqEsP4s"
      }
    },
    {
      "cell_type": "markdown",
      "source": [
        "#  Chapter - 3 Tensors: Multidimensional arrays"
      ],
      "metadata": {
        "id": "wbW5i7Y5tvmE"
      }
    },
    {
      "cell_type": "markdown",
      "source": [
        "## From Python Lists to PyTorch Tensors"
      ],
      "metadata": {
        "id": "NUI1eBjxto_m"
      }
    },
    {
      "cell_type": "code",
      "execution_count": 1,
      "metadata": {
        "id": "1CBl445bsIr1"
      },
      "outputs": [],
      "source": [
        "# Creating a Python list with three float values\n",
        "a = [1.0, 2.0, 1.0]"
      ]
    },
    {
      "cell_type": "code",
      "source": [
        "# Access the first element (remember: Python uses 0-based indexing)\n",
        "a[0]"
      ],
      "metadata": {
        "colab": {
          "base_uri": "https://localhost:8080/"
        },
        "id": "ceMZQLJvtomL",
        "outputId": "93939512-e3c0-47a5-8ec3-ddc58cf3fb96"
      },
      "execution_count": 2,
      "outputs": [
        {
          "output_type": "execute_result",
          "data": {
            "text/plain": [
              "1.0"
            ]
          },
          "metadata": {},
          "execution_count": 2
        }
      ]
    },
    {
      "cell_type": "code",
      "source": [
        "# Change the third element (index 2) to 3.0\n",
        "a[2] = 3.0\n",
        "\n",
        "# Display the updated list\n",
        "a"
      ],
      "metadata": {
        "colab": {
          "base_uri": "https://localhost:8080/"
        },
        "id": "Q4dtlDNyt250",
        "outputId": "9e415e6f-48aa-4932-8098-606e3f3f9915"
      },
      "execution_count": 3,
      "outputs": [
        {
          "output_type": "execute_result",
          "data": {
            "text/plain": [
              "[1.0, 2.0, 3.0]"
            ]
          },
          "metadata": {},
          "execution_count": 3
        }
      ]
    },
    {
      "cell_type": "markdown",
      "source": [
        "## Constructing Our First Tensors"
      ],
      "metadata": {
        "id": "F4_8FV1ouEg3"
      }
    },
    {
      "cell_type": "code",
      "source": [
        "# Import the torch module\n",
        "import torch"
      ],
      "metadata": {
        "id": "hvgMaXUJt4a6"
      },
      "execution_count": 4,
      "outputs": []
    },
    {
      "cell_type": "markdown",
      "source": [
        "This creates a 1D tensor with 3 elements, each initialized to 1.0.\n"
      ],
      "metadata": {
        "id": "eoYBW71GuTPf"
      }
    },
    {
      "cell_type": "code",
      "source": [
        "# Create a 1D tensor of size 3 filled with ones\n",
        "a = torch.ones(3)\n",
        "\n",
        "# Display the tensor\n",
        "a"
      ],
      "metadata": {
        "colab": {
          "base_uri": "https://localhost:8080/"
        },
        "id": "M3LDWdmVuJx1",
        "outputId": "28c67b7f-822d-40e5-83f6-88fd7cc914d2"
      },
      "execution_count": 5,
      "outputs": [
        {
          "output_type": "execute_result",
          "data": {
            "text/plain": [
              "tensor([1., 1., 1.])"
            ]
          },
          "metadata": {},
          "execution_count": 5
        }
      ]
    },
    {
      "cell_type": "markdown",
      "source": [
        "Accessing Elements"
      ],
      "metadata": {
        "id": "_tjTMz0PuaUO"
      }
    },
    {
      "cell_type": "code",
      "source": [
        "# Access the second element (index 1)\n",
        "a[1]"
      ],
      "metadata": {
        "colab": {
          "base_uri": "https://localhost:8080/"
        },
        "id": "I3VaKJjruMYh",
        "outputId": "c8a92ff3-f2c8-4410-8b54-6cedd0dffd72"
      },
      "execution_count": 6,
      "outputs": [
        {
          "output_type": "execute_result",
          "data": {
            "text/plain": [
              "tensor(1.)"
            ]
          },
          "metadata": {},
          "execution_count": 6
        }
      ]
    },
    {
      "cell_type": "markdown",
      "source": [
        "Note: PyTorch returns a 0-dimensional tensor (also called a scalar tensor) when you index a single element."
      ],
      "metadata": {
        "id": "Cl2vTc8lui4k"
      }
    },
    {
      "cell_type": "code",
      "source": [
        "# Convert a single tensor element to a Python float\n",
        "print(float(a[1]))\n",
        "a[1].item()  # Also returns 1.0"
      ],
      "metadata": {
        "colab": {
          "base_uri": "https://localhost:8080/"
        },
        "id": "t2WNI_uJudgC",
        "outputId": "4a5f94b2-264c-46b1-d92b-58118f7508fb"
      },
      "execution_count": 7,
      "outputs": [
        {
          "output_type": "stream",
          "name": "stdout",
          "text": [
            "1.0\n"
          ]
        },
        {
          "output_type": "execute_result",
          "data": {
            "text/plain": [
              "1.0"
            ]
          },
          "metadata": {},
          "execution_count": 7
        }
      ]
    },
    {
      "cell_type": "markdown",
      "source": [
        "Modify an Element"
      ],
      "metadata": {
        "id": "RFdMR7APuncL"
      }
    },
    {
      "cell_type": "code",
      "source": [
        "# Change the third element (index 2) to 2.0\n",
        "a[2] = 2.0\n",
        "\n",
        "# Display the updated tensor\n",
        "a"
      ],
      "metadata": {
        "colab": {
          "base_uri": "https://localhost:8080/"
        },
        "id": "a5Lgr8OP50yr",
        "outputId": "7d8d656a-872b-4ef4-b0f6-6471e4513a03"
      },
      "execution_count": 8,
      "outputs": [
        {
          "output_type": "execute_result",
          "data": {
            "text/plain": [
              "tensor([1., 1., 2.])"
            ]
          },
          "metadata": {},
          "execution_count": 8
        }
      ]
    },
    {
      "cell_type": "markdown",
      "source": [
        "**NOTE : Python Lists vs PyTorch Tensors**\n",
        "\n",
        "Python lists are collections of Python objects, which means:\n",
        "\n",
        "- Each number is a separate object in memory.\n",
        "\n",
        "- Less efficient for large-scale data or numerical computations.\n",
        "\n",
        "PyTorch tensors (and NumPy arrays):\n",
        "\n",
        "- Store unboxed C numeric types.\n",
        "\n",
        "- Data is stored in contiguous memory (much more efficient).\n",
        "\n",
        "- Ideal for working with large datasets or using the GPU."
      ],
      "metadata": {
        "id": "l1r1-iNU55cM"
      }
    },
    {
      "cell_type": "markdown",
      "source": [
        "**Example: Storing Coordinates in a Tensor**\n",
        "\n",
        "Imagine we want to store the coordinates of a triangle with vertices at:\n",
        "\n",
        "(4, 1)\n",
        "\n",
        "(5, 3)\n",
        "\n",
        "(2, 1)\n",
        "\n",
        "We can do this using a 1D tensor, alternating X and Y coordinates."
      ],
      "metadata": {
        "id": "_lZmBHGB6G8O"
      }
    },
    {
      "cell_type": "markdown",
      "source": [
        "**Method 1**: Initialize with torch.zeros() and manually assign"
      ],
      "metadata": {
        "id": "KofdP3P26PHs"
      }
    },
    {
      "cell_type": "code",
      "source": [
        "import torch\n",
        "\n",
        "# Create a 1D tensor of size 6, filled with zeros\n",
        "points = torch.zeros(6)\n",
        "\n",
        "# Assign x and y values for 3 points\n",
        "points[0] = 4.0\n",
        "points[1] = 1.0\n",
        "points[2] = 5.0\n",
        "points[3] = 3.0\n",
        "points[4] = 2.0\n",
        "points[5] = 1.0\n",
        "\n",
        "points"
      ],
      "metadata": {
        "colab": {
          "base_uri": "https://localhost:8080/"
        },
        "id": "9HMub6dL51fH",
        "outputId": "c3b5d0e6-c377-4262-db80-4850c63de9f3"
      },
      "execution_count": 9,
      "outputs": [
        {
          "output_type": "execute_result",
          "data": {
            "text/plain": [
              "tensor([4., 1., 5., 3., 2., 1.])"
            ]
          },
          "metadata": {},
          "execution_count": 9
        }
      ]
    },
    {
      "cell_type": "markdown",
      "source": [
        "**Method 2**: Use a list directly"
      ],
      "metadata": {
        "id": "mUZdjv_A6Snr"
      }
    },
    {
      "cell_type": "code",
      "source": [
        "# Initialize the same tensor more concisely using a list\n",
        "points = torch.tensor([4.0, 1.0, 5.0, 3.0, 2.0, 1.0])\n",
        "points"
      ],
      "metadata": {
        "colab": {
          "base_uri": "https://localhost:8080/"
        },
        "id": "clGj2l_d6NoF",
        "outputId": "bbde8dfd-098c-455b-fc85-6c8836206779"
      },
      "execution_count": 10,
      "outputs": [
        {
          "output_type": "execute_result",
          "data": {
            "text/plain": [
              "tensor([4., 1., 5., 3., 2., 1.])"
            ]
          },
          "metadata": {},
          "execution_count": 10
        }
      ]
    },
    {
      "cell_type": "markdown",
      "source": [
        "Access individual coordinates"
      ],
      "metadata": {
        "id": "2pZtcsav6XGd"
      }
    },
    {
      "cell_type": "code",
      "source": [
        "# Get the x and y coordinates of the first point\n",
        "float(points[0]), float(points[1])"
      ],
      "metadata": {
        "colab": {
          "base_uri": "https://localhost:8080/"
        },
        "id": "PKiNqIIa6VJk",
        "outputId": "64cf01d4-d511-4c66-f5d2-7b067cde0e30"
      },
      "execution_count": 11,
      "outputs": [
        {
          "output_type": "execute_result",
          "data": {
            "text/plain": [
              "(4.0, 1.0)"
            ]
          },
          "metadata": {},
          "execution_count": 11
        }
      ]
    },
    {
      "cell_type": "markdown",
      "source": [
        "Making It More Practical: Use a 2D Tensor\n",
        "\n",
        "Rather than storing (x, y) pairs in a flat list, we can use a 2D tensor where each row is a point.\n"
      ],
      "metadata": {
        "id": "9Pilo0fT8z7n"
      }
    },
    {
      "cell_type": "code",
      "source": [
        "# Each sublist represents a 2D point (x, y)\n",
        "points = torch.tensor([\n",
        "    [4.0, 1.0],\n",
        "    [5.0, 3.0],\n",
        "    [2.0, 1.0]\n",
        "])\n",
        "points"
      ],
      "metadata": {
        "colab": {
          "base_uri": "https://localhost:8080/"
        },
        "id": "u9QsGCL46ZJx",
        "outputId": "f3b855ca-dda5-415e-ba84-b1bcc328ece0"
      },
      "execution_count": 12,
      "outputs": [
        {
          "output_type": "execute_result",
          "data": {
            "text/plain": [
              "tensor([[4., 1.],\n",
              "        [5., 3.],\n",
              "        [2., 1.]])"
            ]
          },
          "metadata": {},
          "execution_count": 12
        }
      ]
    },
    {
      "cell_type": "markdown",
      "source": [
        "Check the shape of the tensor"
      ],
      "metadata": {
        "id": "9oUA9BC1874j"
      }
    },
    {
      "cell_type": "code",
      "source": [
        "# Shape = (3 rows, 2 columns)\n",
        "points.shape"
      ],
      "metadata": {
        "colab": {
          "base_uri": "https://localhost:8080/"
        },
        "id": "MXwLr4k385eV",
        "outputId": "87a99004-9fe6-48bb-b7df-e7e845767ba7"
      },
      "execution_count": 13,
      "outputs": [
        {
          "output_type": "execute_result",
          "data": {
            "text/plain": [
              "torch.Size([3, 2])"
            ]
          },
          "metadata": {},
          "execution_count": 13
        }
      ]
    },
    {
      "cell_type": "markdown",
      "source": [
        "Create a blank 2D tensor using torch.zeros()"
      ],
      "metadata": {
        "id": "5JAZAl3J9BHn"
      }
    },
    {
      "cell_type": "code",
      "source": [
        "# Create a 3x2 tensor filled with zeros\n",
        "points = torch.zeros(3, 2)\n",
        "points"
      ],
      "metadata": {
        "colab": {
          "base_uri": "https://localhost:8080/"
        },
        "id": "VgdUl-4o89i4",
        "outputId": "51e53f0d-13ce-42af-82f2-477f5370d062"
      },
      "execution_count": 14,
      "outputs": [
        {
          "output_type": "execute_result",
          "data": {
            "text/plain": [
              "tensor([[0., 0.],\n",
              "        [0., 0.],\n",
              "        [0., 0.]])"
            ]
          },
          "metadata": {},
          "execution_count": 14
        }
      ]
    },
    {
      "cell_type": "markdown",
      "source": [
        "Accessing Elements in a 2D Tensor"
      ],
      "metadata": {
        "id": "gw93ZrNS9GeZ"
      }
    },
    {
      "cell_type": "code",
      "source": [
        "# Reset tensor to actual values\n",
        "points = torch.tensor([\n",
        "    [4.0, 1.0],\n",
        "    [5.0, 3.0],\n",
        "    [2.0, 1.0]\n",
        "])\n",
        "\n",
        "# Access the Y-coordinate (1st column) of the 0th point (first row)\n",
        "points[0, 1]"
      ],
      "metadata": {
        "colab": {
          "base_uri": "https://localhost:8080/"
        },
        "id": "5y5u0Yo59Dyc",
        "outputId": "cce5f2b4-8b95-4f89-f82a-28c2c99de162"
      },
      "execution_count": 15,
      "outputs": [
        {
          "output_type": "execute_result",
          "data": {
            "text/plain": [
              "tensor(1.)"
            ]
          },
          "metadata": {},
          "execution_count": 15
        }
      ]
    },
    {
      "cell_type": "markdown",
      "source": [
        "Get the full coordinates of a point"
      ],
      "metadata": {
        "id": "JzL-E7__9OZ9"
      }
    },
    {
      "cell_type": "code",
      "source": [
        "# Get all coordinates of the 0th point\n",
        "points[0]"
      ],
      "metadata": {
        "colab": {
          "base_uri": "https://localhost:8080/"
        },
        "id": "ICj62OM19IRo",
        "outputId": "e86cb15e-9dae-4499-9f68-369d890fd978"
      },
      "execution_count": 16,
      "outputs": [
        {
          "output_type": "execute_result",
          "data": {
            "text/plain": [
              "tensor([4., 1.])"
            ]
          },
          "metadata": {},
          "execution_count": 16
        }
      ]
    },
    {
      "cell_type": "markdown",
      "source": [
        "## Indexing tensors"
      ],
      "metadata": {
        "id": "sp2fwegz9YAR"
      }
    },
    {
      "cell_type": "markdown",
      "source": [
        "Indexing in Python"
      ],
      "metadata": {
        "id": "Oz8LkNuf9txX"
      }
    },
    {
      "cell_type": "code",
      "source": [
        "# Standard Python list\n",
        "some_list = list(range(6))  # [0, 1, 2, 3, 4, 5]\n",
        "\n",
        "# All elements\n",
        "print(\"All elements : \",some_list[:])         # → [0, 1, 2, 3, 4, 5]\n",
        "\n",
        "# From index 1 to 3 (exclusive of 4)\n",
        "print(\"From index 1 to 3 : \",some_list[1:4] )      # → [1, 2, 3]\n",
        "\n",
        "# From index 1 to end\n",
        "print(\"From index 1 to end : \",some_list[1:])        # → [1, 2, 3, 4, 5]\n",
        "\n",
        "# From start to index 4 (exclusive)\n",
        "print(\"From start to index 4 : \",some_list[:4])        # → [0, 1, 2, 3]\n",
        "\n",
        "# All except last\n",
        "print(\"All except last : \",some_list[:-1] )      # → [0, 1, 2, 3, 4]\n",
        "\n",
        "# From index 1 to 3, step size 2\n",
        "print(\"From index 1 to 3, step size 2 : \",some_list[1:4:2] )    # → [1, 3]"
      ],
      "metadata": {
        "colab": {
          "base_uri": "https://localhost:8080/"
        },
        "id": "3-M742l89RJo",
        "outputId": "6fabcb06-75e0-46e1-985b-9d15b944157c"
      },
      "execution_count": 17,
      "outputs": [
        {
          "output_type": "stream",
          "name": "stdout",
          "text": [
            "All elements :  [0, 1, 2, 3, 4, 5]\n",
            "From index 1 to 3 :  [1, 2, 3]\n",
            "From index 1 to end :  [1, 2, 3, 4, 5]\n",
            "From start to index 4 :  [0, 1, 2, 3]\n",
            "All except last :  [0, 1, 2, 3, 4]\n",
            "From index 1 to 3, step size 2 :  [1, 3]\n"
          ]
        }
      ]
    },
    {
      "cell_type": "markdown",
      "source": [
        "Indexing in PyTorch Tensors"
      ],
      "metadata": {
        "id": "AS5uqulN-jLw"
      }
    },
    {
      "cell_type": "code",
      "source": [
        "import torch\n",
        "\n",
        "# Define a 2D tensor of 3 points (each with x and y coordinates)\n",
        "points = torch.tensor([\n",
        "    [4.0, 1.0],\n",
        "    [5.0, 3.0],\n",
        "    [2.0, 1.0]\n",
        "])"
      ],
      "metadata": {
        "id": "4-0WZkWh9v-C"
      },
      "execution_count": 18,
      "outputs": []
    },
    {
      "cell_type": "code",
      "source": [
        "# All rows except the first\n",
        "print(\"All rows except the first : \\n\",points[1:])\n",
        "\n",
        "# All rows after the first, all columns\n",
        "print(\"All rows after the first, all columns : \\n\",points[1:, :])\n",
        "\n",
        "# All rows after the first, only the first column (x values)\n",
        "print(\"All rows after the first, only the first column (x values) : \\n\",points[1:, 0])\n",
        "\n",
        "# Adds a new dimension at the front (acts like unsqueeze)\n",
        "print(\"Adds a new dimension at the front : \\n\",points[None])\n",
        "\n",
        "# The above is same as the below\n",
        "points.unsqueeze(0)"
      ],
      "metadata": {
        "colab": {
          "base_uri": "https://localhost:8080/"
        },
        "id": "_M0CGQMf-loL",
        "outputId": "56ab713c-9654-4d4b-c223-2ed5214a1dce"
      },
      "execution_count": 19,
      "outputs": [
        {
          "output_type": "stream",
          "name": "stdout",
          "text": [
            "All rows except the first : \n",
            " tensor([[5., 3.],\n",
            "        [2., 1.]])\n",
            "All rows after the first, all columns : \n",
            " tensor([[5., 3.],\n",
            "        [2., 1.]])\n",
            "All rows after the first, only the first column (x values) : \n",
            " tensor([5., 2.])\n",
            "Adds a new dimension at the front : \n",
            " tensor([[[4., 1.],\n",
            "         [5., 3.],\n",
            "         [2., 1.]]])\n"
          ]
        },
        {
          "output_type": "execute_result",
          "data": {
            "text/plain": [
              "tensor([[[4., 1.],\n",
              "         [5., 3.],\n",
              "         [2., 1.]]])"
            ]
          },
          "metadata": {},
          "execution_count": 19
        }
      ]
    },
    {
      "cell_type": "markdown",
      "source": [
        "## Named Tensors in PyTorch"
      ],
      "metadata": {
        "id": "yGv4r6Hw_9V_"
      }
    },
    {
      "cell_type": "markdown",
      "source": [
        "Why Named Tensors?\n",
        "\n",
        "When working with high-dimensional tensors (e.g., images, batches, channels), it becomes difficult to remember what each axis represents.\n",
        "\n",
        "Named tensors:\n",
        "\n",
        "- Help you avoid bugs by giving names to dimensions (e.g., 'channels', 'rows', 'columns')\n",
        "\n",
        "- Make operations more readable and safer\n",
        "\n"
      ],
      "metadata": {
        "id": "WYiOpu1WABkX"
      }
    },
    {
      "cell_type": "markdown",
      "source": [
        "simulate RGB image data using torch.randn."
      ],
      "metadata": {
        "id": "IuEROhZTANmp"
      }
    },
    {
      "cell_type": "code",
      "source": [
        "import torch\n",
        "\n",
        "# Simulate a single image: [channels=3, height=5, width=5]\n",
        "img_t = torch.randn(3, 5, 5)\n",
        "\n",
        "# Grayscale conversion weights (typical luma values)\n",
        "weights = torch.tensor([0.2126, 0.7152, 0.0722])"
      ],
      "metadata": {
        "id": "TIXqA3U2_NVH"
      },
      "execution_count": 20,
      "outputs": []
    },
    {
      "cell_type": "markdown",
      "source": [
        "Simulate a Batch of 2 Images"
      ],
      "metadata": {
        "id": "fWuS-9mlARb2"
      }
    },
    {
      "cell_type": "code",
      "source": [
        "# Simulate a batch of 2 images: [batch=2, channels=3, height=5, width=5]\n",
        "batch_t = torch.randn(2, 3, 5, 5)"
      ],
      "metadata": {
        "id": "JfnGcnsFAPf-"
      },
      "execution_count": 21,
      "outputs": []
    },
    {
      "cell_type": "markdown",
      "source": [
        "Basic Grayscale Conversion (Unweighted)"
      ],
      "metadata": {
        "id": "acM2dHakAY9o"
      }
    },
    {
      "cell_type": "code",
      "source": [
        "# Compute mean across channel dimension (third from the end = -3)\n",
        "img_gray_naive = img_t.mean(-3)\n",
        "batch_gray_naive = batch_t.mean(-3)\n",
        "\n",
        "img_gray_naive.shape, batch_gray_naive.shape"
      ],
      "metadata": {
        "colab": {
          "base_uri": "https://localhost:8080/"
        },
        "id": "zyaxa2CBATN1",
        "outputId": "03e7de93-d475-4c1b-b802-1a350dc36cee"
      },
      "execution_count": 22,
      "outputs": [
        {
          "output_type": "execute_result",
          "data": {
            "text/plain": [
              "(torch.Size([5, 5]), torch.Size([2, 5, 5]))"
            ]
          },
          "metadata": {},
          "execution_count": 22
        }
      ]
    },
    {
      "cell_type": "markdown",
      "source": [
        "Apply Grayscale Weights Using Broadcasting"
      ],
      "metadata": {
        "id": "u7bMepMcAdtZ"
      }
    },
    {
      "cell_type": "code",
      "source": [
        "# Adjust shape to [3, 1, 1] to match the image format [3, H, W]\n",
        "unsqueezed_weights = weights.unsqueeze(-1).unsqueeze_(-1)\n",
        "\n",
        "# Apply weighted grayscale conversion\n",
        "img_weights = img_t * unsqueezed_weights\n",
        "batch_weights = batch_t * unsqueezed_weights\n",
        "\n",
        "img_gray_weighted = img_weights.sum(-3)\n",
        "batch_gray_weighted = batch_weights.sum(-3)\n",
        "\n",
        "batch_weights.shape, batch_t.shape, unsqueezed_weights.shape"
      ],
      "metadata": {
        "colab": {
          "base_uri": "https://localhost:8080/"
        },
        "id": "pr6JrizyAbkt",
        "outputId": "264b71a3-381c-4d35-aad2-259b427e4b35"
      },
      "execution_count": 23,
      "outputs": [
        {
          "output_type": "execute_result",
          "data": {
            "text/plain": [
              "(torch.Size([2, 3, 5, 5]), torch.Size([2, 3, 5, 5]), torch.Size([3, 1, 1]))"
            ]
          },
          "metadata": {},
          "execution_count": 23
        }
      ]
    },
    {
      "cell_type": "markdown",
      "source": [
        "Einsum"
      ],
      "metadata": {
        "id": "vLC92kcyAhll"
      }
    },
    {
      "cell_type": "code",
      "source": [
        "# Fancy shorthand using einsum for same result\n",
        "img_gray_weighted_fancy = torch.einsum('...chw,c->...hw', img_t, weights)\n",
        "batch_gray_weighted_fancy = torch.einsum('...chw,c->...hw', batch_t, weights)\n",
        "\n",
        "batch_gray_weighted_fancy.shape"
      ],
      "metadata": {
        "colab": {
          "base_uri": "https://localhost:8080/"
        },
        "id": "cCmXgscoAfZi",
        "outputId": "6dda3b70-a2b7-4f77-a111-63af53295f6f"
      },
      "execution_count": 24,
      "outputs": [
        {
          "output_type": "execute_result",
          "data": {
            "text/plain": [
              "torch.Size([2, 5, 5])"
            ]
          },
          "metadata": {},
          "execution_count": 24
        }
      ]
    },
    {
      "cell_type": "markdown",
      "source": [
        "Named Tensors in Action\n",
        "\n",
        "Add Names to Dimensions"
      ],
      "metadata": {
        "id": "EsnC1N5SAljr"
      }
    },
    {
      "cell_type": "code",
      "source": [
        "# Create a named tensor directly\n",
        "weights_named = torch.tensor([0.2126, 0.7152, 0.0722], names=['channels'])\n",
        "weights_named"
      ],
      "metadata": {
        "colab": {
          "base_uri": "https://localhost:8080/"
        },
        "id": "imBsKlQBAjvp",
        "outputId": "9db64ea3-cd9e-4634-e32d-aaf511220735"
      },
      "execution_count": 25,
      "outputs": [
        {
          "output_type": "stream",
          "name": "stderr",
          "text": [
            "/tmp/ipython-input-25-2302798016.py:2: UserWarning: Named tensors and all their associated APIs are an experimental feature and subject to change. Please do not use them for anything important until they are released as stable. (Triggered internally at /pytorch/c10/core/TensorImpl.h:1935.)\n",
            "  weights_named = torch.tensor([0.2126, 0.7152, 0.0722], names=['channels'])\n"
          ]
        },
        {
          "output_type": "execute_result",
          "data": {
            "text/plain": [
              "tensor([0.2126, 0.7152, 0.0722], names=('channels',))"
            ]
          },
          "metadata": {},
          "execution_count": 25
        }
      ]
    },
    {
      "cell_type": "markdown",
      "source": [
        "Refine Names for Existing Tensors"
      ],
      "metadata": {
        "id": "s1ZZt0_1AsrE"
      }
    },
    {
      "cell_type": "code",
      "source": [
        "# Add names to existing tensors\n",
        "img_named = img_t.refine_names(..., 'channels', 'rows', 'columns')\n",
        "batch_named = batch_t.refine_names(..., 'channels', 'rows', 'columns')\n",
        "\n",
        "print(\"img named:\", img_named.shape, img_named.names)\n",
        "print(\"batch named:\", batch_named.shape, batch_named.names)"
      ],
      "metadata": {
        "colab": {
          "base_uri": "https://localhost:8080/"
        },
        "id": "8dlGGPSLApqh",
        "outputId": "3255d74e-76a7-4a3a-8dd5-dd9ed35a38b7"
      },
      "execution_count": 26,
      "outputs": [
        {
          "output_type": "stream",
          "name": "stdout",
          "text": [
            "img named: torch.Size([3, 5, 5]) ('channels', 'rows', 'columns')\n",
            "batch named: torch.Size([2, 3, 5, 5]) (None, 'channels', 'rows', 'columns')\n"
          ]
        }
      ]
    },
    {
      "cell_type": "markdown",
      "source": [
        "Align Weights to Match Dimensions"
      ],
      "metadata": {
        "id": "kUzKCi4yAxGD"
      }
    },
    {
      "cell_type": "code",
      "source": [
        "# Align weights_named with img_named (adds singleton dims and reorders)\n",
        "weights_aligned = weights_named.align_as(img_named)\n",
        "weights_aligned.shape, weights_aligned.names"
      ],
      "metadata": {
        "colab": {
          "base_uri": "https://localhost:8080/"
        },
        "id": "c4jn7RG0Auog",
        "outputId": "2f45f847-4a67-4947-a0b1-afcbc2f9d796"
      },
      "execution_count": 27,
      "outputs": [
        {
          "output_type": "execute_result",
          "data": {
            "text/plain": [
              "(torch.Size([3, 1, 1]), ('channels', 'rows', 'columns'))"
            ]
          },
          "metadata": {},
          "execution_count": 27
        }
      ]
    },
    {
      "cell_type": "markdown",
      "source": [
        "Use Named Dimension in Operations"
      ],
      "metadata": {
        "id": "uGAURUMxA0zn"
      }
    },
    {
      "cell_type": "code",
      "source": [
        "# Multiply and sum over the 'channels' dimension\n",
        "gray_named = (img_named * weights_aligned).sum('channels')\n",
        "gray_named.shape, gray_named.names"
      ],
      "metadata": {
        "colab": {
          "base_uri": "https://localhost:8080/"
        },
        "id": "olLpNQCiAyti",
        "outputId": "33db71f9-cb8b-40e5-f07a-ef2d3fdb4222"
      },
      "execution_count": 28,
      "outputs": [
        {
          "output_type": "execute_result",
          "data": {
            "text/plain": [
              "(torch.Size([5, 5]), ('rows', 'columns'))"
            ]
          },
          "metadata": {},
          "execution_count": 28
        }
      ]
    },
    {
      "cell_type": "markdown",
      "source": [
        "Broadcast Name Mismatch Error"
      ],
      "metadata": {
        "id": "8ddQ0sQsA48G"
      }
    },
    {
      "cell_type": "code",
      "source": [
        "# This will raise an error due to name misalignment\n",
        "gray_named = (img_named[..., :3] * weights_named).sum('channels')"
      ],
      "metadata": {
        "colab": {
          "base_uri": "https://localhost:8080/",
          "height": 159
        },
        "id": "3pzABx52A2fL",
        "outputId": "97f0c3e0-92e7-4e55-d70e-484c397e90bf"
      },
      "execution_count": 29,
      "outputs": [
        {
          "output_type": "error",
          "ename": "RuntimeError",
          "evalue": "Error when attempting to broadcast dims ['channels', 'rows', 'columns'] and dims ['channels']: dim 'columns' and dim 'channels' are at the same position from the right but do not match.",
          "traceback": [
            "\u001b[0;31m---------------------------------------------------------------------------\u001b[0m",
            "\u001b[0;31mRuntimeError\u001b[0m                              Traceback (most recent call last)",
            "\u001b[0;32m/tmp/ipython-input-29-3415574902.py\u001b[0m in \u001b[0;36m<cell line: 0>\u001b[0;34m()\u001b[0m\n\u001b[1;32m      1\u001b[0m \u001b[0;31m# This will raise an error due to name misalignment\u001b[0m\u001b[0;34m\u001b[0m\u001b[0;34m\u001b[0m\u001b[0m\n\u001b[0;32m----> 2\u001b[0;31m \u001b[0mgray_named\u001b[0m \u001b[0;34m=\u001b[0m \u001b[0;34m(\u001b[0m\u001b[0mimg_named\u001b[0m\u001b[0;34m[\u001b[0m\u001b[0;34m...\u001b[0m\u001b[0;34m,\u001b[0m \u001b[0;34m:\u001b[0m\u001b[0;36m3\u001b[0m\u001b[0;34m]\u001b[0m \u001b[0;34m*\u001b[0m \u001b[0mweights_named\u001b[0m\u001b[0;34m)\u001b[0m\u001b[0;34m.\u001b[0m\u001b[0msum\u001b[0m\u001b[0;34m(\u001b[0m\u001b[0;34m'channels'\u001b[0m\u001b[0;34m)\u001b[0m\u001b[0;34m\u001b[0m\u001b[0;34m\u001b[0m\u001b[0m\n\u001b[0m",
            "\u001b[0;31mRuntimeError\u001b[0m: Error when attempting to broadcast dims ['channels', 'rows', 'columns'] and dims ['channels']: dim 'columns' and dim 'channels' are at the same position from the right but do not match."
          ]
        }
      ]
    },
    {
      "cell_type": "markdown",
      "source": [
        "Drop Names to Return to Unnamed Tensors"
      ],
      "metadata": {
        "id": "fCMOg3alA_9j"
      }
    },
    {
      "cell_type": "code",
      "source": [
        "# Remove names to use tensor in code expecting unnamed tensors\n",
        "gray_plain = gray_named.rename(None)\n",
        "gray_plain.shape, gray_plain.names"
      ],
      "metadata": {
        "colab": {
          "base_uri": "https://localhost:8080/"
        },
        "id": "UcrvJ8axA78l",
        "outputId": "660a0776-19e4-475f-e715-d5dfbeff26cf"
      },
      "execution_count": 30,
      "outputs": [
        {
          "output_type": "execute_result",
          "data": {
            "text/plain": [
              "(torch.Size([5, 5]), (None, None))"
            ]
          },
          "metadata": {},
          "execution_count": 30
        }
      ]
    },
    {
      "cell_type": "markdown",
      "source": [
        "# Tensor Element Types"
      ],
      "metadata": {
        "id": "njK8m9POBRMz"
      }
    },
    {
      "cell_type": "markdown",
      "source": [
        "Why care about data types?\n",
        "\n",
        "While Python allows flexibility with number types, PyTorch requires all elements of a tensor to have the same numeric type, for performance and memory efficiency.\n",
        "\n"
      ],
      "metadata": {
        "id": "niSdu28BBUw9"
      }
    },
    {
      "cell_type": "markdown",
      "source": [
        "Creating Tensors with Different dtypes"
      ],
      "metadata": {
        "id": "IkBf8i3eBZmp"
      }
    },
    {
      "cell_type": "code",
      "source": [
        "# Create a 10x2 tensor of 1.0s with double precision\n",
        "double_points = torch.ones(10, 2, dtype=torch.double)\n",
        "\n",
        "# Create a 2x2 tensor of 16-bit integers (short)\n",
        "short_points = torch.tensor([[1, 2], [3, 4]], dtype=torch.short)\n",
        "\n",
        "# Check dtype\n",
        "print(\"Double tensor dtype:\", double_points.dtype)\n",
        "print(\"Short tensor dtype:\", short_points.dtype)"
      ],
      "metadata": {
        "colab": {
          "base_uri": "https://localhost:8080/"
        },
        "id": "FKvIgxNuBB59",
        "outputId": "f7878d7e-83d2-425d-c277-7b9707d62675"
      },
      "execution_count": 31,
      "outputs": [
        {
          "output_type": "stream",
          "name": "stdout",
          "text": [
            "Double tensor dtype: torch.float64\n",
            "Short tensor dtype: torch.int16\n"
          ]
        }
      ]
    },
    {
      "cell_type": "markdown",
      "source": [
        "Managing a Tensor's dtype Attribute"
      ],
      "metadata": {
        "id": "gYXGvCcHBlVJ"
      }
    },
    {
      "cell_type": "markdown",
      "source": [
        "Method 1: Use casting methods"
      ],
      "metadata": {
        "id": "THx1slImBp-T"
      }
    },
    {
      "cell_type": "code",
      "source": [
        "# Use casting methods directly\n",
        "double_points = torch.zeros(10, 2).double()  # to double\n",
        "short_points = torch.ones(10, 2).short()     # to short"
      ],
      "metadata": {
        "id": "P43kRxYvBjjw"
      },
      "execution_count": 32,
      "outputs": []
    },
    {
      "cell_type": "markdown",
      "source": [
        "Method 2:Use .to() for conversion"
      ],
      "metadata": {
        "id": "WmIBtHN2B00l"
      }
    },
    {
      "cell_type": "code",
      "source": [
        "# More flexible and general\n",
        "double_points = torch.zeros(10, 2).to(torch.double)\n",
        "short_points = torch.ones(10, 2).to(dtype=torch.short)"
      ],
      "metadata": {
        "id": "v2T6Edf-Bygm"
      },
      "execution_count": 33,
      "outputs": []
    },
    {
      "cell_type": "markdown",
      "source": [
        "Inspect dtype of any tensor"
      ],
      "metadata": {
        "id": "sNgvHPtWB7KS"
      }
    },
    {
      "cell_type": "code",
      "source": [
        "print(\"dtype of short_points:\", short_points.dtype)"
      ],
      "metadata": {
        "colab": {
          "base_uri": "https://localhost:8080/"
        },
        "id": "PW2kHJYxB5jR",
        "outputId": "5397bd53-7fd0-4716-ba0e-661a1b7885c7"
      },
      "execution_count": 34,
      "outputs": [
        {
          "output_type": "stream",
          "name": "stdout",
          "text": [
            "dtype of short_points: torch.int16\n"
          ]
        }
      ]
    },
    {
      "cell_type": "markdown",
      "source": [
        "Mixing Types — Auto Promotion\n",
        "\n",
        "If you multiply float64 and int16, PyTorch will promote to the higher precision type."
      ],
      "metadata": {
        "id": "xUBQ6Qa6CAV9"
      }
    },
    {
      "cell_type": "code",
      "source": [
        "# 64-bit float tensor\n",
        "points_64 = torch.rand(5, dtype=torch.double)\n",
        "\n",
        "# Convert to int16\n",
        "points_short = points_64.to(torch.short)\n",
        "\n",
        "# Multiply — result is float64 with values zeroed (int * float = float)\n",
        "result = points_64 * points_short\n",
        "print(\"Result:\", result)\n",
        "print(\"dtype:\", result.dtype)"
      ],
      "metadata": {
        "colab": {
          "base_uri": "https://localhost:8080/"
        },
        "id": "l8-lcYVJB9sz",
        "outputId": "c197302d-f2ae-4fad-d789-0831037e2cda"
      },
      "execution_count": 35,
      "outputs": [
        {
          "output_type": "stream",
          "name": "stdout",
          "text": [
            "Result: tensor([0., 0., 0., 0., 0.], dtype=torch.float64)\n",
            "dtype: torch.float64\n"
          ]
        }
      ]
    },
    {
      "cell_type": "markdown",
      "source": [
        "## The Tensor API"
      ],
      "metadata": {
        "id": "snjzg4rsCVM-"
      }
    },
    {
      "cell_type": "markdown",
      "source": [
        "Example: Transposing a Tensor"
      ],
      "metadata": {
        "id": "4eqRIqGECa0l"
      }
    },
    {
      "cell_type": "code",
      "source": [
        "import torch\n",
        "\n",
        "a = torch.ones(3, 2)\n",
        "\n",
        "# Method 1: Using torch module\n",
        "a_torch = torch.transpose(a, 0, 1)\n",
        "\n",
        "# Method 2: Using tensor method\n",
        "a_method = a.transpose(0, 1)\n",
        "\n",
        "print(\"Original shape:\", a.shape)\n",
        "print(\"Transposed shape (torch):\", a_torch.shape)\n",
        "print(\"Transposed shape (method):\", a_method.shape)"
      ],
      "metadata": {
        "colab": {
          "base_uri": "https://localhost:8080/"
        },
        "id": "ZBx6G-coCCZx",
        "outputId": "d8f8417d-163e-4ab7-823c-0e9595db448d"
      },
      "execution_count": 36,
      "outputs": [
        {
          "output_type": "stream",
          "name": "stdout",
          "text": [
            "Original shape: torch.Size([3, 2])\n",
            "Transposed shape (torch): torch.Size([2, 3])\n",
            "Transposed shape (method): torch.Size([2, 3])\n"
          ]
        }
      ]
    },
    {
      "cell_type": "markdown",
      "source": [
        "## Tensors: Scenic Views of Storage"
      ],
      "metadata": {
        "id": "RHhhlug2C6cz"
      }
    },
    {
      "cell_type": "markdown",
      "source": [
        "What's under the hood?\n",
        "\n",
        "Every torch.Tensor doesn't directly \"own\" memory. Instead, it references a Storage, which is a contiguous block of memory (1D array) storing the actual numerical data.\n",
        "\n",
        "This design enables multiple tensors to share the same memory, accessing it differently using shape, offset, and stride."
      ],
      "metadata": {
        "id": "p_T6KWRSC_Pt"
      }
    },
    {
      "cell_type": "markdown",
      "source": [
        "Indexing into Storage"
      ],
      "metadata": {
        "id": "I1NV1sARDCau"
      }
    },
    {
      "cell_type": "code",
      "source": [
        "import torch\n",
        "\n",
        "# Create a 2D tensor of shape (3, 2)\n",
        "points = torch.tensor([[4.0, 1.0],\n",
        "                       [5.0, 3.0],\n",
        "                       [2.0, 1.0]])\n",
        "\n",
        "# View the underlying storage (a flat 1D array)\n",
        "points.storage()"
      ],
      "metadata": {
        "colab": {
          "base_uri": "https://localhost:8080/"
        },
        "id": "eP5rAojrCdj7",
        "outputId": "e1ecc2ae-cfc5-492d-f040-7fa70013f8dd"
      },
      "execution_count": 37,
      "outputs": [
        {
          "output_type": "stream",
          "name": "stderr",
          "text": [
            "/tmp/ipython-input-37-479134480.py:9: UserWarning: TypedStorage is deprecated. It will be removed in the future and UntypedStorage will be the only storage class. This should only matter to you if you are using storages directly.  To access UntypedStorage directly, use tensor.untyped_storage() instead of tensor.storage()\n",
            "  points.storage()\n"
          ]
        },
        {
          "output_type": "execute_result",
          "data": {
            "text/plain": [
              " 4.0\n",
              " 1.0\n",
              " 5.0\n",
              " 3.0\n",
              " 2.0\n",
              " 1.0\n",
              "[torch.storage.TypedStorage(dtype=torch.float32, device=cpu) of size 6]"
            ]
          },
          "metadata": {},
          "execution_count": 37
        }
      ]
    },
    {
      "cell_type": "markdown",
      "source": [
        "Indexing into storage directly"
      ],
      "metadata": {
        "id": "W0Le7SLbDHoz"
      }
    },
    {
      "cell_type": "code",
      "source": [
        "points_storage = points.storage()\n",
        "\n",
        "# Get the first element in raw storage\n",
        "print(points_storage[0])  # 4.0\n",
        "\n",
        "# Get the second element\n",
        "print(points_storage[1])  # 1.0"
      ],
      "metadata": {
        "colab": {
          "base_uri": "https://localhost:8080/"
        },
        "id": "wNhJBB0GDEOZ",
        "outputId": "c2bf6cda-daed-43dd-af00-152793c60934"
      },
      "execution_count": 38,
      "outputs": [
        {
          "output_type": "stream",
          "name": "stdout",
          "text": [
            "4.0\n",
            "1.0\n"
          ]
        }
      ]
    },
    {
      "cell_type": "markdown",
      "source": [
        "Mutating Storage Affects Tensor!"
      ],
      "metadata": {
        "id": "UK95p74VDLlx"
      }
    },
    {
      "cell_type": "code",
      "source": [
        "# Changing the storage will change the tensor values too\n",
        "points_storage[0] = 2.0\n",
        "\n",
        "# Now points tensor is changed!\n",
        "print(points)"
      ],
      "metadata": {
        "colab": {
          "base_uri": "https://localhost:8080/"
        },
        "id": "bL5uwxNhDJZz",
        "outputId": "ecc8e6b7-35fb-4bb9-e105-44c818cc0edb"
      },
      "execution_count": 39,
      "outputs": [
        {
          "output_type": "stream",
          "name": "stdout",
          "text": [
            "tensor([[2., 1.],\n",
            "        [5., 3.],\n",
            "        [2., 1.]])\n"
          ]
        }
      ]
    },
    {
      "cell_type": "markdown",
      "source": [
        "Modifying Stored Values: In-place Operations"
      ],
      "metadata": {
        "id": "zvOysi2tDQWc"
      }
    },
    {
      "cell_type": "markdown",
      "source": [
        "In-place zeroing of a tensor"
      ],
      "metadata": {
        "id": "zkbRCbu_DSU9"
      }
    },
    {
      "cell_type": "code",
      "source": [
        "a = torch.ones(3, 2)   # Create tensor of all ones\n",
        "a.zero_()              # In-place operation (with \"_\")\n",
        "print(a)"
      ],
      "metadata": {
        "colab": {
          "base_uri": "https://localhost:8080/"
        },
        "id": "uRIDgHW2DOet",
        "outputId": "70367f41-0baf-4d83-d8d5-e87e9f1f40e5"
      },
      "execution_count": 40,
      "outputs": [
        {
          "output_type": "stream",
          "name": "stdout",
          "text": [
            "tensor([[0., 0.],\n",
            "        [0., 0.],\n",
            "        [0., 0.]])\n"
          ]
        }
      ]
    },
    {
      "cell_type": "markdown",
      "source": [
        "## Tensor Metadata: Size, Offset, and Stride"
      ],
      "metadata": {
        "id": "5KMR6gshDgdT"
      }
    },
    {
      "cell_type": "markdown",
      "source": [
        "Tensors are just views into a block of memory, and how we interpret that memory is governed by:\n",
        "\n",
        "size → Shape (rows, columns)\n",
        "\n",
        "offset → Where to start reading\n",
        "\n",
        "stride → How to jump between elements along each axis"
      ],
      "metadata": {
        "id": "FyqnDn_DDmqd"
      }
    },
    {
      "cell_type": "markdown",
      "source": [
        "Views of Another Tensor’s Storage"
      ],
      "metadata": {
        "id": "oVj8XdB5DrRv"
      }
    },
    {
      "cell_type": "code",
      "source": [
        "import torch\n",
        "\n",
        "# Define a 2D tensor with 3 rows and 2 columns\n",
        "points = torch.tensor([[4.0, 1.0],\n",
        "                       [5.0, 3.0],\n",
        "                       [2.0, 1.0]])\n",
        "\n",
        "# Extract the second row (index 1)\n",
        "second_point = points[1]"
      ],
      "metadata": {
        "id": "-pjJdBUrDUBq"
      },
      "execution_count": 41,
      "outputs": []
    },
    {
      "cell_type": "code",
      "source": [
        "# Where in the storage this tensor starts (index 1 * 2 cols = 2)\n",
        "second_point.storage_offset()"
      ],
      "metadata": {
        "colab": {
          "base_uri": "https://localhost:8080/"
        },
        "id": "s2VMVggEDs_r",
        "outputId": "7344b1a0-968f-4f3c-cd8a-33c3b4b6151e"
      },
      "execution_count": 42,
      "outputs": [
        {
          "output_type": "execute_result",
          "data": {
            "text/plain": [
              "2"
            ]
          },
          "metadata": {},
          "execution_count": 42
        }
      ]
    },
    {
      "cell_type": "code",
      "source": [
        "# Its size (it's a 1D tensor of 2 elements)\n",
        "second_point.size()"
      ],
      "metadata": {
        "colab": {
          "base_uri": "https://localhost:8080/"
        },
        "id": "Fn9IsFnsDuuq",
        "outputId": "c410f6ab-b58e-4cc5-f1fe-e6679da50e78"
      },
      "execution_count": 43,
      "outputs": [
        {
          "output_type": "execute_result",
          "data": {
            "text/plain": [
              "torch.Size([2])"
            ]
          },
          "metadata": {},
          "execution_count": 43
        }
      ]
    },
    {
      "cell_type": "code",
      "source": [
        "# Shape is same as size for tensors\n",
        "second_point.shape"
      ],
      "metadata": {
        "colab": {
          "base_uri": "https://localhost:8080/"
        },
        "id": "ce95JpERDwn5",
        "outputId": "1596c948-0bc2-45ba-92cf-21fb2bc549a1"
      },
      "execution_count": 44,
      "outputs": [
        {
          "output_type": "execute_result",
          "data": {
            "text/plain": [
              "torch.Size([2])"
            ]
          },
          "metadata": {},
          "execution_count": 44
        }
      ]
    },
    {
      "cell_type": "code",
      "source": [
        "# Stride tells how many elements to skip to move along each dimension\n",
        "points.stride()  # Original 2D tensor\n"
      ],
      "metadata": {
        "colab": {
          "base_uri": "https://localhost:8080/"
        },
        "id": "G_z_eVGdDycm",
        "outputId": "df1004ea-b6ad-4746-ca54-54d57794f63b"
      },
      "execution_count": 45,
      "outputs": [
        {
          "output_type": "execute_result",
          "data": {
            "text/plain": [
              "(2, 1)"
            ]
          },
          "metadata": {},
          "execution_count": 45
        }
      ]
    },
    {
      "cell_type": "markdown",
      "source": [
        "Understanding View Behavior"
      ],
      "metadata": {
        "id": "P2syZgk5D2B6"
      }
    },
    {
      "cell_type": "code",
      "source": [
        "second_point = points[1]\n",
        "print(second_point.size())            # torch.Size([2])\n",
        "print(second_point.storage_offset())  # 2\n",
        "print(second_point.stride())         # (1,)"
      ],
      "metadata": {
        "colab": {
          "base_uri": "https://localhost:8080/"
        },
        "id": "z6FZiVDYD0OF",
        "outputId": "c9265e03-cc39-47d4-a949-766b31dd921a"
      },
      "execution_count": 46,
      "outputs": [
        {
          "output_type": "stream",
          "name": "stdout",
          "text": [
            "torch.Size([2])\n",
            "2\n",
            "(1,)\n"
          ]
        }
      ]
    },
    {
      "cell_type": "markdown",
      "source": [
        "Changing a view affects the original"
      ],
      "metadata": {
        "id": "OtmKKcAND5yO"
      }
    },
    {
      "cell_type": "code",
      "source": [
        "points = torch.tensor([[4.0, 1.0],\n",
        "                       [5.0, 3.0],\n",
        "                       [2.0, 1.0]])\n",
        "\n",
        "second_point = points[1]\n",
        "second_point[0] = 10.0\n",
        "print(points)"
      ],
      "metadata": {
        "colab": {
          "base_uri": "https://localhost:8080/"
        },
        "id": "-zrK5aw6D3sP",
        "outputId": "34556176-077a-44c1-c156-e6a04ce9ad58"
      },
      "execution_count": 47,
      "outputs": [
        {
          "output_type": "stream",
          "name": "stdout",
          "text": [
            "tensor([[ 4.,  1.],\n",
            "        [10.,  3.],\n",
            "        [ 2.,  1.]])\n"
          ]
        }
      ]
    },
    {
      "cell_type": "markdown",
      "source": [
        "To avoid this, use .clone():"
      ],
      "metadata": {
        "id": "MWJQ-Yk6D97F"
      }
    },
    {
      "cell_type": "code",
      "source": [
        "points = torch.tensor([[4.0, 1.0],\n",
        "                       [5.0, 3.0],\n",
        "                       [2.0, 1.0]])\n",
        "\n",
        "second_point = points[1].clone()\n",
        "second_point[0] = 10.0\n",
        "\n",
        "print(points)  # original is unchanged"
      ],
      "metadata": {
        "colab": {
          "base_uri": "https://localhost:8080/"
        },
        "id": "v5xuyC0sD7lB",
        "outputId": "c91f7550-488e-440e-b205-be4951787160"
      },
      "execution_count": 48,
      "outputs": [
        {
          "output_type": "stream",
          "name": "stdout",
          "text": [
            "tensor([[4., 1.],\n",
            "        [5., 3.],\n",
            "        [2., 1.]])\n"
          ]
        }
      ]
    },
    {
      "cell_type": "markdown",
      "source": [
        "Transposing Without Copying"
      ],
      "metadata": {
        "id": "Mm_O6GI5EBbw"
      }
    },
    {
      "cell_type": "code",
      "source": [
        "points = torch.tensor([[4.0, 1.0],\n",
        "                       [5.0, 3.0],\n",
        "                       [2.0, 1.0]])\n",
        "\n",
        "points_t = points.t()  # transpose for 2D tensors"
      ],
      "metadata": {
        "id": "-Su3mIXAD_0b"
      },
      "execution_count": 49,
      "outputs": []
    },
    {
      "cell_type": "code",
      "source": [
        "print(points_t)  # Shape becomes (2, 3)"
      ],
      "metadata": {
        "colab": {
          "base_uri": "https://localhost:8080/"
        },
        "id": "R7nAZrIPELrr",
        "outputId": "197f705c-6bae-4b07-ced9-3b5a6a4a73f0"
      },
      "execution_count": 50,
      "outputs": [
        {
          "output_type": "stream",
          "name": "stdout",
          "text": [
            "tensor([[4., 5., 2.],\n",
            "        [1., 3., 1.]])\n"
          ]
        }
      ]
    },
    {
      "cell_type": "markdown",
      "source": [
        "Do both share the same memory?"
      ],
      "metadata": {
        "id": "zLJcLs8zEP8A"
      }
    },
    {
      "cell_type": "code",
      "source": [
        "id(points.storage()) == id(points_t.storage())  # True"
      ],
      "metadata": {
        "colab": {
          "base_uri": "https://localhost:8080/"
        },
        "id": "-Ex0wOBLENwf",
        "outputId": "ba406778-91cd-4293-8df3-19f4778801e6"
      },
      "execution_count": 51,
      "outputs": [
        {
          "output_type": "execute_result",
          "data": {
            "text/plain": [
              "True"
            ]
          },
          "metadata": {},
          "execution_count": 51
        }
      ]
    },
    {
      "cell_type": "code",
      "source": [
        "# Check stride of both\n",
        "print(\"points.stride():\", points.stride())     # (2, 1)\n",
        "print(\"points_t.stride():\", points_t.stride()) # (1, 2)"
      ],
      "metadata": {
        "colab": {
          "base_uri": "https://localhost:8080/"
        },
        "id": "SBBJZSYgESWv",
        "outputId": "5480bd24-2e16-4a93-89e4-aae0529eb41b"
      },
      "execution_count": 52,
      "outputs": [
        {
          "output_type": "stream",
          "name": "stdout",
          "text": [
            "points.stride(): (2, 1)\n",
            "points_t.stride(): (1, 2)\n"
          ]
        }
      ]
    },
    {
      "cell_type": "markdown",
      "source": [
        "Transposing in Higher Dimensions"
      ],
      "metadata": {
        "id": "tVE0KHzsEV4y"
      }
    },
    {
      "cell_type": "code",
      "source": [
        "some_t = torch.ones(3, 4, 5)  # Shape: (3, 4, 5)\n",
        "\n",
        "# Transpose dimension 0 and 2\n",
        "transpose_t = some_t.transpose(0, 2)\n",
        "\n",
        "print(\"Original shape:\", some_t.shape)       # torch.Size([3, 4, 5])\n",
        "print(\"Transposed shape:\", transpose_t.shape) # torch.Size([5, 4, 3])"
      ],
      "metadata": {
        "colab": {
          "base_uri": "https://localhost:8080/"
        },
        "id": "4hm7IMHOEUMb",
        "outputId": "67260694-0adf-4a41-9c03-2c648c3ffdab"
      },
      "execution_count": 53,
      "outputs": [
        {
          "output_type": "stream",
          "name": "stdout",
          "text": [
            "Original shape: torch.Size([3, 4, 5])\n",
            "Transposed shape: torch.Size([5, 4, 3])\n"
          ]
        }
      ]
    },
    {
      "cell_type": "code",
      "source": [
        "print(\"Original stride:\", some_t.stride())       # (20, 5, 1)\n",
        "print(\"Transposed stride:\", transpose_t.stride()) # (1, 5, 20)"
      ],
      "metadata": {
        "colab": {
          "base_uri": "https://localhost:8080/"
        },
        "id": "T3_VsT2rEXkg",
        "outputId": "d98f032d-adbf-47fc-dfc5-89602a6bcaea"
      },
      "execution_count": 54,
      "outputs": [
        {
          "output_type": "stream",
          "name": "stdout",
          "text": [
            "Original stride: (20, 5, 1)\n",
            "Transposed stride: (1, 5, 20)\n"
          ]
        }
      ]
    },
    {
      "cell_type": "markdown",
      "source": [
        "Contiguous Tensors"
      ],
      "metadata": {
        "id": "JV-ZqmGEEaeB"
      }
    },
    {
      "cell_type": "code",
      "source": [
        "print(points.is_contiguous())       # True\n",
        "print(points_t.is_contiguous())     # False"
      ],
      "metadata": {
        "colab": {
          "base_uri": "https://localhost:8080/"
        },
        "id": "QaowrJJKEZPB",
        "outputId": "24dfdf3f-1f4b-41d4-d68d-f859d31642f2"
      },
      "execution_count": 55,
      "outputs": [
        {
          "output_type": "stream",
          "name": "stdout",
          "text": [
            "True\n",
            "False\n"
          ]
        }
      ]
    },
    {
      "cell_type": "markdown",
      "source": [
        "Making a tensor contiguous"
      ],
      "metadata": {
        "id": "Fwcj8RSaEkBl"
      }
    },
    {
      "cell_type": "code",
      "source": [
        "points_t_cont = points_t.contiguous()"
      ],
      "metadata": {
        "id": "BFL69SkqEcJ1"
      },
      "execution_count": 56,
      "outputs": []
    },
    {
      "cell_type": "code",
      "source": [
        "print(\"Old stride:\", points_t.stride())          # (1, 2)\n",
        "print(\"New stride:\", points_t_cont.stride())     # (3, 1)"
      ],
      "metadata": {
        "colab": {
          "base_uri": "https://localhost:8080/"
        },
        "id": "ghjtD_kzElz3",
        "outputId": "32852f59-e00a-40e0-e1f2-597c6221eab2"
      },
      "execution_count": 57,
      "outputs": [
        {
          "output_type": "stream",
          "name": "stdout",
          "text": [
            "Old stride: (1, 2)\n",
            "New stride: (3, 1)\n"
          ]
        }
      ]
    },
    {
      "cell_type": "code",
      "source": [
        "# Check storage: values are reshuffled for row-wise layout\n",
        "print(\"Old storage:\", points_t.storage())\n",
        "print(\"New storage:\", points_t_cont.storage())"
      ],
      "metadata": {
        "colab": {
          "base_uri": "https://localhost:8080/"
        },
        "id": "96EAC-xwEngb",
        "outputId": "76a68e7d-1870-4556-e0c2-17e55b897774"
      },
      "execution_count": 58,
      "outputs": [
        {
          "output_type": "stream",
          "name": "stdout",
          "text": [
            "Old storage:  4.0\n",
            " 1.0\n",
            " 5.0\n",
            " 3.0\n",
            " 2.0\n",
            " 1.0\n",
            "[torch.storage.TypedStorage(dtype=torch.float32, device=cpu) of size 6]\n",
            "New storage:  4.0\n",
            " 5.0\n",
            " 2.0\n",
            " 1.0\n",
            " 3.0\n",
            " 1.0\n",
            "[torch.storage.TypedStorage(dtype=torch.float32, device=cpu) of size 6]\n"
          ]
        }
      ]
    }
  ]
}