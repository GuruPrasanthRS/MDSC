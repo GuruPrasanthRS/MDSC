{
  "nbformat": 4,
  "nbformat_minor": 0,
  "metadata": {
    "colab": {
      "provenance": [],
      "gpuType": "T4"
    },
    "kernelspec": {
      "name": "python3",
      "display_name": "Python 3"
    },
    "language_info": {
      "name": "python"
    },
    "accelerator": "GPU"
  },
  "cells": [
    {
      "cell_type": "markdown",
      "source": [
        "# MDSC-302(P) Deep Learning Practicals\n",
        "# Assignment-5"
      ],
      "metadata": {
        "id": "CfoV5FjNrghU"
      }
    },
    {
      "cell_type": "markdown",
      "source": [
        "#Name : Guru Prasanth R S\n",
        "#Regd No : 240402008003\n",
        "#Chapter 7: Telling birds from airplanes: Learning from images"
      ],
      "metadata": {
        "id": "7Pawr47kron1"
      }
    },
    {
      "cell_type": "markdown",
      "source": [
        "# 7.1 — A Dataset of Tiny Images (CIFAR-10)"
      ],
      "metadata": {
        "id": "dnWrT-g-hUpb"
      }
    },
    {
      "cell_type": "markdown",
      "source": [
        "In this section, we explore the `CIFAR-10 dataset`, a classic benchmark in computer vision.\n",
        "It consists of `60,000 color images (32×32 pixels)` divided into `10 classes`:\n",
        "\n",
        "`airplane, automobile, bird, cat, deer, dog, frog, horse, ship, truck`\n",
        "\n",
        "We will:\n",
        "\n",
        "- Download and inspect the CIFAR-10 dataset using torchvision.datasets.\n",
        "- Understand how PyTorch’s Dataset class works (__len__, __getitem__).\n",
        "- Convert images to tensors using transforms.ToTensor().\n",
        "- Normalize the dataset so each color channel has zero mean and unit variance."
      ],
      "metadata": {
        "id": "HrKm2RDUhcGZ"
      }
    },
    {
      "cell_type": "code",
      "source": [
        "# Import required libraries\n",
        "import torch\n",
        "from torchvision import datasets, transforms\n",
        "import matplotlib.pyplot as plt\n",
        "\n",
        "# Define data path\n",
        "data_path = './data/'\n",
        "\n",
        "# Download the CIFAR-10 dataset (train and validation)\n",
        "cifar10 = datasets.CIFAR10(root=data_path, train=True, download=True)\n",
        "cifar10_val = datasets.CIFAR10(root=data_path, train=False, download=True)\n",
        "\n",
        "print(\"Training dataset size:\", len(cifar10))\n",
        "print(\"Validation dataset size:\", len(cifar10_val))"
      ],
      "metadata": {
        "colab": {
          "base_uri": "https://localhost:8080/"
        },
        "id": "i6HbhZyja5L8",
        "outputId": "3e5e651e-70e2-4d54-d2f6-cea77dce74de"
      },
      "execution_count": 1,
      "outputs": [
        {
          "output_type": "stream",
          "name": "stderr",
          "text": [
            "100%|██████████| 170M/170M [00:13<00:00, 12.5MB/s]\n"
          ]
        },
        {
          "output_type": "stream",
          "name": "stdout",
          "text": [
            "Training dataset size: 50000\n",
            "Validation dataset size: 10000\n"
          ]
        }
      ]
    },
    {
      "cell_type": "markdown",
      "source": [
        "Understanding the Dataset class\n",
        "\n",
        "A Dataset in PyTorch is an object that:\n",
        "- Implements __len__() → returns the number of samples.\n",
        "- Implements __getitem__() → returns one data sample and its label."
      ],
      "metadata": {
        "id": "4hosaZ2GhyZe"
      }
    },
    {
      "cell_type": "code",
      "source": [
        "# Check inheritance hierarchy (class resolution order)\n",
        "print(type(cifar10).__mro__)\n",
        "\n",
        "# Get length of dataset\n",
        "print(\"Number of training samples:\", len(cifar10))\n",
        "\n",
        "# CIFAR-10 class names\n",
        "class_names = cifar10.classes\n",
        "print(\"Classes:\", class_names)\n",
        "\n",
        "# Get one sample\n",
        "img, label = cifar10[99]\n",
        "print(\"Label index:\", label)\n",
        "print(\"Class name:\", class_names[label])\n",
        "\n",
        "# Display the image\n",
        "plt.imshow(img)\n",
        "plt.title(f\"Label: {class_names[label]}\")\n",
        "plt.axis(\"off\")\n",
        "plt.show()"
      ],
      "metadata": {
        "colab": {
          "base_uri": "https://localhost:8080/",
          "height": 535
        },
        "id": "pmgczsuoh4cm",
        "outputId": "547a590d-c4cd-4ad3-9137-d20219b125e8"
      },
      "execution_count": 2,
      "outputs": [
        {
          "output_type": "stream",
          "name": "stdout",
          "text": [
            "(<class 'torchvision.datasets.cifar.CIFAR10'>, <class 'torchvision.datasets.vision.VisionDataset'>, <class 'torch.utils.data.dataset.Dataset'>, <class 'typing.Generic'>, <class 'object'>)\n",
            "Number of training samples: 50000\n",
            "Classes: ['airplane', 'automobile', 'bird', 'cat', 'deer', 'dog', 'frog', 'horse', 'ship', 'truck']\n",
            "Label index: 1\n",
            "Class name: automobile\n"
          ]
        },
        {
          "output_type": "display_data",
          "data": {
            "text/plain": [
              "<Figure size 640x480 with 1 Axes>"
            ],
            "image/png": "[encoded data removed]"
          },
          "metadata": {}
        }
      ]
    },
    {
      "cell_type": "markdown",
      "source": [
        "Transforming Images into Tensors\n",
        "\n",
        "Currently, images are in PIL (Python Imaging Library) format.\n",
        "To use them with PyTorch models, we convert them into tensors using transforms.ToTensor().\n",
        "\n",
        "This:\n",
        "- Converts image values from 0–255 to 0.0–1.0.\n",
        "- Changes image layout from (H, W, C) to (C, H, W)."
      ],
      "metadata": {
        "id": "56WXzcr3h7jb"
      }
    },
    {
      "cell_type": "code",
      "source": [
        "# Convert PIL image to tensor\n",
        "to_tensor = transforms.ToTensor()\n",
        "img_t = to_tensor(img)\n",
        "\n",
        "print(\"Tensor shape:\", img_t.shape)\n",
        "print(\"Tensor dtype:\", img_t.dtype)\n",
        "print(\"Value range:\", (img_t.min().item(), img_t.max().item()))\n",
        "\n",
        "# Display tensor as image (convert back to HWC for matplotlib)\n",
        "plt.imshow(img_t.permute(1, 2, 0))\n",
        "plt.title(\"Converted Tensor Image\")\n",
        "plt.axis(\"off\")\n",
        "plt.show()"
      ],
      "metadata": {
        "colab": {
          "base_uri": "https://localhost:8080/",
          "height": 480
        },
        "id": "k2lWocQDh-UG",
        "outputId": "1e64b790-7ffc-47f5-c379-7e9d49fbfd6c"
      },
      "execution_count": 3,
      "outputs": [
        {
          "output_type": "stream",
          "name": "stdout",
          "text": [
            "Tensor shape: torch.Size([3, 32, 32])\n",
            "Tensor dtype: torch.float32\n",
            "Value range: (0.0, 1.0)\n"
          ]
        },
        {
          "output_type": "display_data",
          "data": {
            "text/plain": [
              "<Figure size 640x480 with 1 Axes>"
            ],
            "image/png": "[encoded data removed]"
          },
          "metadata": {}
        }
      ]
    },
    {
      "cell_type": "markdown",
      "source": [
        "Creating a Tensor Dataset\n",
        "\n",
        "We can automatically apply a transform to every image by passing it to the dataset.\n",
        "This way, each sample is already a tensor when loaded."
      ],
      "metadata": {
        "id": "WAboNPeviC2v"
      }
    },
    {
      "cell_type": "code",
      "source": [
        "# Create a version of the dataset where every image is already a tensor\n",
        "tensor_cifar10 = datasets.CIFAR10(\n",
        "    root=data_path, train=True, download=False,\n",
        "    transform=transforms.ToTensor()\n",
        ")\n",
        "\n",
        "# Test it\n",
        "img_t, label_t = tensor_cifar10[99]\n",
        "print(type(img_t))\n",
        "print(\"Tensor shape:\", img_t.shape)\n",
        "print(\"Tensor dtype:\", img_t.dtype)"
      ],
      "metadata": {
        "colab": {
          "base_uri": "https://localhost:8080/"
        },
        "id": "U24bDLeQiCaK",
        "outputId": "a5075b9e-fc8c-4947-9162-95e9f15c8692"
      },
      "execution_count": 4,
      "outputs": [
        {
          "output_type": "stream",
          "name": "stdout",
          "text": [
            "<class 'torch.Tensor'>\n",
            "Tensor shape: torch.Size([3, 32, 32])\n",
            "Tensor dtype: torch.float32\n"
          ]
        }
      ]
    },
    {
      "cell_type": "markdown",
      "source": [
        "Normalizing the Dataset\n",
        "\n",
        "Normalization ensures that:\n",
        "- Each RGB channel has zero mean and unit standard deviation.\n",
        "- This helps the neural network learn efficiently.\n",
        "\n",
        "We’ll compute the mean and standard deviation across the dataset, then apply normalization using `transforms.Normalize`."
      ],
      "metadata": {
        "id": "9VzvjyhbiHRC"
      }
    },
    {
      "cell_type": "code",
      "source": [
        "# Stack all tensors in memory to compute statistics\n",
        "imgs = torch.stack([img_t for img_t, _ in tensor_cifar10], dim=3)\n",
        "print(\"Stacked tensor shape:\", imgs.shape)\n",
        "\n",
        "# Compute mean and std for each channel (R, G, B)\n",
        "mean = imgs.view(3, -1).mean(dim=1)\n",
        "std = imgs.view(3, -1).std(dim=1)\n",
        "\n",
        "print(\"Channel-wise mean:\", mean)\n",
        "print(\"Channel-wise std:\", std)"
      ],
      "metadata": {
        "colab": {
          "base_uri": "https://localhost:8080/"
        },
        "id": "hHcsvyY3iMeT",
        "outputId": "45dded66-3900-44ab-cf56-4f6770f51eec"
      },
      "execution_count": 5,
      "outputs": [
        {
          "output_type": "stream",
          "name": "stdout",
          "text": [
            "Stacked tensor shape: torch.Size([3, 32, 32, 50000])\n",
            "Stacked tensor shape: torch.Size([3, 32, 32, 50000])\n",
            "Channel-wise mean: tensor([0.4914, 0.4822, 0.4465])\n",
            "Channel-wise std: tensor([0.2470, 0.2435, 0.2616])\n",
            "Channel-wise mean: tensor([0.4914, 0.4822, 0.4465])\n",
            "Channel-wise std: tensor([0.2470, 0.2435, 0.2616])\n"
          ]
        }
      ]
    },
    {
      "cell_type": "markdown",
      "source": [
        "Applying Normalization with `transforms.Compose`\n",
        "\n",
        "Now we combine transformations:\n",
        "- Convert image → Tensor\n",
        "- Normalize → using computed mean and std values"
      ],
      "metadata": {
        "id": "bLWmEagkiQuj"
      }
    },
    {
      "cell_type": "code",
      "source": [
        "# Create a transform pipeline\n",
        "transform = transforms.Compose([\n",
        "    transforms.ToTensor(),\n",
        "    transforms.Normalize(mean.tolist(), std.tolist())\n",
        "])\n",
        "\n",
        "# Apply it to the dataset\n",
        "transformed_cifar10 = datasets.CIFAR10(\n",
        "    root=data_path, train=True, download=False, transform=transform\n",
        ")\n",
        "\n",
        "# Display a normalized image\n",
        "img_t, label = transformed_cifar10[99]\n",
        "\n",
        "plt.imshow(img_t.permute(1, 2, 0))\n",
        "plt.title(f\"Normalized {class_names[label]}\")\n",
        "plt.axis(\"off\")\n",
        "plt.show()"
      ],
      "metadata": {
        "colab": {
          "base_uri": "https://localhost:8080/",
          "height": 465
        },
        "id": "gZnNpv6IiWPZ",
        "outputId": "4d919a78-ef6d-4479-9436-6df69a1fd26f"
      },
      "execution_count": 16,
      "outputs": [
        {
          "output_type": "stream",
          "name": "stderr",
          "text": [
            "WARNING:matplotlib.image:Clipping input data to the valid range for imshow with RGB data ([0..1] for floats or [0..255] for integers). Got range [-1.9802377..2.1267893].\n"
          ]
        },
        {
          "output_type": "display_data",
          "data": {
            "text/plain": [
              "<Figure size 640x480 with 1 Axes>"
            ],
            "image/png": "[encoded data removed]"
          },
          "metadata": {}
        }
      ]
    },
    {
      "cell_type": "markdown",
      "source": [
        "# 7.2 Distinguishing Birds from Airplanes"
      ],
      "metadata": {
        "id": "hw3qn3QQjYY7"
      }
    },
    {
      "cell_type": "markdown",
      "source": [
        "In this section, we’ll train a small neural network classifier to tell apart airplanes and birds from the CIFAR-10 dataset.\n",
        "We’ll simplify CIFAR-10 into a two-class dataset (called CIFAR-2) and then build, train, and evaluate a simple fully connected network."
      ],
      "metadata": {
        "id": "aRHUzLKmjbZr"
      }
    },
    {
      "cell_type": "markdown",
      "source": [
        "## 7.2.1 Creating a two-class subset of CIFAR-10\n",
        "\n",
        "The original CIFAR-10 dataset has 10 classes (airplane, bird, car, cat, etc.).  \n",
        "Here, we only keep **airplane (0)** and **bird (2)** and remap them to labels 0 and 1.  \n",
        "This gives us a smaller dataset called CIFAR-2, which is perfect for testing binary classification."
      ],
      "metadata": {
        "id": "MMiyeMalji6w"
      }
    },
    {
      "cell_type": "code",
      "source": [
        "import torch\n",
        "from torchvision import datasets, transforms\n",
        "\n",
        "# Transform: convert PIL image → Tensor\n",
        "transform = transforms.ToTensor()\n",
        "\n",
        "# Load CIFAR-10 training & validation datasets\n",
        "cifar10 = datasets.CIFAR10(root=\"data\", train=True, download=True, transform=transform)\n",
        "cifar10_val = datasets.CIFAR10(root=\"data\", train=False, download=True, transform=transform)\n",
        "\n",
        "# Keep only classes airplane (0) and bird (2)\n",
        "label_map = {0: 0, 2: 1}\n",
        "class_names = ['airplane', 'bird']\n",
        "\n",
        "cifar2 = [(img, label_map[label]) for img, label in cifar10 if label in [0, 2]]\n",
        "cifar2_val = [(img, label_map[label]) for img, label in cifar10_val if label in [0, 2]]\n",
        "\n",
        "print(f\"Training samples: {len(cifar2)}, Validation samples: {len(cifar2_val)}\")"
      ],
      "metadata": {
        "colab": {
          "base_uri": "https://localhost:8080/"
        },
        "id": "21gx81uejaGs",
        "outputId": "08ad7259-7a7e-44c2-925f-7aa7226f3b1e"
      },
      "execution_count": 7,
      "outputs": [
        {
          "output_type": "stream",
          "name": "stdout",
          "text": [
            "Training samples: 10000, Validation samples: 2000\n"
          ]
        }
      ]
    },
    {
      "cell_type": "markdown",
      "source": [
        "## 7.2.2 Visualizing the dataset\n",
        "\n",
        "Let’s plot a few airplane and bird images to confirm our dataset is correct.\n"
      ],
      "metadata": {
        "id": "6Vc7LBWSkRST"
      }
    },
    {
      "cell_type": "code",
      "source": [
        "import matplotlib.pyplot as plt\n",
        "\n",
        "fig, axes = plt.subplots(1, 4, figsize=(8, 2))\n",
        "for i, ax in enumerate(axes):\n",
        "    img, label = cifar2[i * 100]\n",
        "    ax.imshow(img.permute(1, 2, 0))  # reshape (C,H,W) → (H,W,C)\n",
        "    ax.set_title(class_names[label])\n",
        "    ax.axis(\"off\")\n",
        "plt.show()"
      ],
      "metadata": {
        "colab": {
          "base_uri": "https://localhost:8080/",
          "height": 194
        },
        "id": "5xNPjlaKkQ3w",
        "outputId": "aae9a86d-7bef-4435-ecf5-bd34905be4a8"
      },
      "execution_count": 17,
      "outputs": [
        {
          "output_type": "display_data",
          "data": {
            "text/plain": [
              "<Figure size 800x200 with 4 Axes>"
            ],
            "image/png": "[encoded data removed]"
          },
          "metadata": {}
        }
      ]
    },
    {
      "cell_type": "markdown",
      "source": [
        "## 7.2.3 Defining the model\n",
        "\n",
        "Each 32×32 RGB image = 3072 features.  \n",
        "We’ll flatten it and feed it to a simple feed-forward network:  \n",
        "Input → Hidden (512) → Output (2 classes).\n"
      ],
      "metadata": {
        "id": "ZssFW53ZkkYz"
      }
    },
    {
      "cell_type": "code",
      "source": [
        "import torch.nn as nn\n",
        "\n",
        "model = nn.Sequential(\n",
        "    nn.Linear(3072, 512),  # Input layer → Hidden layer\n",
        "    nn.Tanh(),             # Non-linear activation\n",
        "    nn.Linear(512, 2),     # Hidden layer → Output (2 classes)\n",
        "    nn.LogSoftmax(dim=1)   # Log-probabilities for stability\n",
        ")\n",
        "\n",
        "print(model)"
      ],
      "metadata": {
        "colab": {
          "base_uri": "https://localhost:8080/"
        },
        "id": "Za1EspkMjzz4",
        "outputId": "fbbe4fe1-7859-42b0-a736-4bc86c3e21ac"
      },
      "execution_count": 9,
      "outputs": [
        {
          "output_type": "stream",
          "name": "stdout",
          "text": [
            "Sequential(\n",
            "  (0): Linear(in_features=3072, out_features=512, bias=True)\n",
            "  (1): Tanh()\n",
            "  (2): Linear(in_features=512, out_features=2, bias=True)\n",
            "  (3): LogSoftmax(dim=1)\n",
            ")\n"
          ]
        }
      ]
    },
    {
      "cell_type": "markdown",
      "source": [
        "## 7.2.4 Preparing DataLoaders and optimizer\n",
        "\n",
        "We’ll use DataLoader for batching,  \n",
        "SGD for optimization,  \n",
        "and Negative Log Likelihood Loss for classification.\n"
      ],
      "metadata": {
        "id": "Dhs2WlEbk6_G"
      }
    },
    {
      "cell_type": "code",
      "source": [
        "from torch.utils.data import DataLoader\n",
        "from torch import optim\n",
        "\n",
        "train_loader = DataLoader(cifar2, batch_size=64, shuffle=True)\n",
        "val_loader = DataLoader(cifar2_val, batch_size=64, shuffle=False)\n",
        "\n",
        "learning_rate = 1e-2\n",
        "optimizer = optim.SGD(model.parameters(), lr=learning_rate)\n",
        "loss_fn = nn.NLLLoss()"
      ],
      "metadata": {
        "id": "o75bEo_vk4w3"
      },
      "execution_count": 10,
      "outputs": []
    },
    {
      "cell_type": "markdown",
      "source": [
        "## 7.2.5 Training loop\n",
        "\n",
        "For each epoch:\n",
        "1. Flatten images  \n",
        "2. Compute log probabilities  \n",
        "3. Calculate loss  \n",
        "4. Backpropagate gradients  \n",
        "5. Update weights\n"
      ],
      "metadata": {
        "id": "SU5y0oxmlB43"
      }
    },
    {
      "cell_type": "code",
      "source": [
        "n_epochs = 10  # Number of epochs\n",
        "\n",
        "for epoch in range(n_epochs):\n",
        "    total_loss = 0.0\n",
        "    for imgs, labels in train_loader:\n",
        "        # Flatten images into 3072-length vectors\n",
        "        batch_size = imgs.shape[0]\n",
        "        outputs = model(imgs.view(batch_size, -1))\n",
        "\n",
        "        # Compute loss\n",
        "        loss = loss_fn(outputs, labels)\n",
        "\n",
        "        # Reset gradients\n",
        "        optimizer.zero_grad()\n",
        "\n",
        "        # Backpropagation\n",
        "        loss.backward()\n",
        "\n",
        "        # Update parameters\n",
        "        optimizer.step()\n",
        "\n",
        "        total_loss += loss.item()\n",
        "\n",
        "    print(f\"Epoch {epoch+1}, Training Loss: {total_loss/len(train_loader):.4f}\")"
      ],
      "metadata": {
        "colab": {
          "base_uri": "https://localhost:8080/"
        },
        "id": "FyUIlridk_2m",
        "outputId": "a614f827-177d-4b80-a818-a8d5115232a3"
      },
      "execution_count": 11,
      "outputs": [
        {
          "output_type": "stream",
          "name": "stdout",
          "text": [
            "Epoch 1, Training Loss: 0.5787\n",
            "Epoch 1, Training Loss: 0.5787\n",
            "Epoch 2, Training Loss: 0.5242\n",
            "Epoch 2, Training Loss: 0.5242\n",
            "Epoch 3, Training Loss: 0.5091\n",
            "Epoch 3, Training Loss: 0.5091\n",
            "Epoch 4, Training Loss: 0.5030\n",
            "Epoch 4, Training Loss: 0.5030\n",
            "Epoch 5, Training Loss: 0.4969\n",
            "Epoch 5, Training Loss: 0.4969\n",
            "Epoch 6, Training Loss: 0.4914\n",
            "Epoch 6, Training Loss: 0.4914\n",
            "Epoch 7, Training Loss: 0.4910\n",
            "Epoch 7, Training Loss: 0.4910\n",
            "Epoch 8, Training Loss: 0.4781\n",
            "Epoch 8, Training Loss: 0.4781\n",
            "Epoch 9, Training Loss: 0.4802\n",
            "Epoch 9, Training Loss: 0.4802\n",
            "Epoch 10, Training Loss: 0.4819\n",
            "Epoch 10, Training Loss: 0.4819\n"
          ]
        }
      ]
    },
    {
      "cell_type": "markdown",
      "source": [
        "## 7.2.6 Evaluating the trained model\n",
        "We now test on the validation set and compute accuracy.\n"
      ],
      "metadata": {
        "id": "1errPHGSlQTj"
      }
    },
    {
      "cell_type": "code",
      "source": [
        "correct = 0\n",
        "total = 0\n",
        "with torch.no_grad():  # disable gradient tracking for evaluation\n",
        "    for imgs, labels in val_loader:\n",
        "        batch_size = imgs.shape[0]\n",
        "        outputs = model(imgs.view(batch_size, -1))\n",
        "        _, predicted = torch.max(outputs, dim=1)\n",
        "        total += labels.size(0)\n",
        "        correct += (predicted == labels).sum().item()\n",
        "\n",
        "accuracy = correct / total\n",
        "print(f\"Validation accuracy: {accuracy*100:.2f}%\")"
      ],
      "metadata": {
        "colab": {
          "base_uri": "https://localhost:8080/"
        },
        "id": "w_XIAWxNlLsf",
        "outputId": "38680bcb-9059-40e8-ad43-20142b2ccb91"
      },
      "execution_count": 12,
      "outputs": [
        {
          "output_type": "stream",
          "name": "stdout",
          "text": [
            "Validation accuracy: 80.20%\n"
          ]
        }
      ]
    },
    {
      "cell_type": "markdown",
      "source": [
        "## 7.2.7 Visualizing predictions\n",
        "\n",
        "Let’s check what our trained model predicts for some random images.\n"
      ],
      "metadata": {
        "id": "oZ61CqyAlZl_"
      }
    },
    {
      "cell_type": "code",
      "source": [
        "import random\n",
        "\n",
        "fig, axes = plt.subplots(1, 6, figsize=(12, 3))\n",
        "for ax in axes:\n",
        "    img, label = random.choice(cifar2_val)\n",
        "    with torch.no_grad():\n",
        "        output = model(img.view(1, -1))\n",
        "        pred = output.argmax(dim=1).item()\n",
        "\n",
        "    ax.imshow(img.permute(1, 2, 0))\n",
        "    ax.set_title(f\"Pred: {class_names[pred]}\\nTrue: {class_names[label]}\")\n",
        "    ax.axis(\"off\")\n",
        "plt.show()"
      ],
      "metadata": {
        "colab": {
          "base_uri": "https://localhost:8080/",
          "height": 212
        },
        "id": "HajOhPFYlZIV",
        "outputId": "cd72095d-6e6d-4e86-aa45-ae5371c2aa66"
      },
      "execution_count": 13,
      "outputs": [
        {
          "output_type": "display_data",
          "data": {
            "text/plain": [
              "<Figure size 1200x300 with 6 Axes>"
            ],
            "image/png": "[encoded data removed]"
          },
          "metadata": {}
        }
      ]
    },
    {
      "cell_type": "markdown",
      "source": [
        "## 7.2.8 Making the network deeper\n",
        "\n",
        "We’ll add more hidden layers to increase capacity  \n",
        "and switch to CrossEntropyLoss (which combines LogSoftmax + NLLLoss).\n"
      ],
      "metadata": {
        "id": "bdpEYFUwpWPJ"
      }
    },
    {
      "cell_type": "code",
      "source": [
        "model_deep = nn.Sequential(\n",
        "    nn.Linear(3072, 1024),\n",
        "    nn.Tanh(),\n",
        "    nn.Linear(1024, 512),\n",
        "    nn.Tanh(),\n",
        "    nn.Linear(512, 128),\n",
        "    nn.Tanh(),\n",
        "    nn.Linear(128, 2)\n",
        ")\n",
        "\n",
        "loss_fn = nn.CrossEntropyLoss()\n",
        "optimizer = optim.SGD(model_deep.parameters(), lr=1e-2)\n",
        "print(model_deep)"
      ],
      "metadata": {
        "colab": {
          "base_uri": "https://localhost:8080/"
        },
        "id": "DKsuoU60lWtR",
        "outputId": "cb47572d-9460-49c7-9d4b-b045b55f4e5d"
      },
      "execution_count": 14,
      "outputs": [
        {
          "output_type": "stream",
          "name": "stdout",
          "text": [
            "Sequential(\n",
            "  (0): Linear(in_features=3072, out_features=1024, bias=True)\n",
            "  (1): Tanh()\n",
            "  (2): Linear(in_features=1024, out_features=512, bias=True)\n",
            "  (3): Tanh()\n",
            "  (4): Linear(in_features=512, out_features=128, bias=True)\n",
            "  (5): Tanh()\n",
            "  (6): Linear(in_features=128, out_features=2, bias=True)\n",
            ")\n"
          ]
        }
      ]
    },
    {
      "cell_type": "markdown",
      "source": [
        "## 7.2.9 Counting model parameters\n",
        "Let’s check how many trainable parameters each model has.\n"
      ],
      "metadata": {
        "id": "z0hHhEfFpaWA"
      }
    },
    {
      "cell_type": "code",
      "source": [
        "def count_parameters(model):\n",
        "    return sum(p.numel() for p in model.parameters() if p.requires_grad)\n",
        "\n",
        "print(\"Simple model params:\", count_parameters(model))\n",
        "print(\"Deeper model params:\", count_parameters(model_deep))"
      ],
      "metadata": {
        "colab": {
          "base_uri": "https://localhost:8080/"
        },
        "id": "mjX29btcpYgY",
        "outputId": "d5edd6e7-313a-4efc-be26-ddede1690883"
      },
      "execution_count": 15,
      "outputs": [
        {
          "metadata": {
            "tags": null
          },
          "name": "stdout",
          "output_type": "stream",
          "text": [
            "Simple model params: 1574402\n",
            "Deeper model params: 3737474\n"
          ]
        }
      ]
    }
  ]
}